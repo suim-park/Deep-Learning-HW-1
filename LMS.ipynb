{
 "cells": [
  {
   "cell_type": "markdown",
   "metadata": {},
   "source": [
    "## Lab: LMS Algorithm (15 pts)\n",
    "In this lab question, you will implement the LMS algorithm with NumPy to learn a linear regression model\n",
    "for the provided dataset. You will also be directed to analyze how the choice of learning rate in the LMS\n",
    "algorithm affect the final result. All the codes generating the results of this lab should be gathered in one\n",
    "file and submit to Canvas."
   ]
  },
  {
   "cell_type": "markdown",
   "metadata": {},
   "source": []
  }
 ],
 "metadata": {
  "kernelspec": {
   "display_name": "base",
   "language": "python",
   "name": "python3"
  },
  "language_info": {
   "name": "python",
   "version": "3.12.3"
  }
 },
 "nbformat": 4,
 "nbformat_minor": 2
}
